{
  "nbformat": 4,
  "nbformat_minor": 0,
  "metadata": {
    "colab": {
      "name": "First Trail.ipynb",
      "provenance": [],
      "authorship_tag": "ABX9TyP/WPqtww6lrrAWRKckMc+p",
      "include_colab_link": true
    },
    "kernelspec": {
      "name": "python3",
      "display_name": "Python 3"
    },
    "language_info": {
      "name": "python"
    }
  },
  "cells": [
    {
      "cell_type": "markdown",
      "metadata": {
        "id": "view-in-github",
        "colab_type": "text"
      },
      "source": [
        "<a href=\"https://colab.research.google.com/github/ManjuVasavi/BASIC-ML/blob/main/First_Trail.ipynb\" target=\"_parent\"><img src=\"https://colab.research.google.com/assets/colab-badge.svg\" alt=\"Open In Colab\"/></a>"
      ]
    },
    {
      "cell_type": "markdown",
      "metadata": {
        "id": "ztYnhR7Y8D8k"
      },
      "source": [
        "#1.Program to display the text taken from user or taken manually."
      ]
    },
    {
      "cell_type": "markdown",
      "metadata": {
        "id": "zV0-atJ88qIw"
      },
      "source": [
        "1. Declare a variable to store the text.\n",
        "2. Use the variable in print function to output the text.\n",
        "3. Click the run button.\n"
      ]
    },
    {
      "cell_type": "code",
      "metadata": {
        "colab": {
          "base_uri": "https://localhost:8080/"
        },
        "id": "CEEEqSRa9wTu",
        "outputId": "91cb42e3-8b59-461f-acbc-65a03a1dfe85"
      },
      "source": [
        "Text = \"This is my first time trying colab.\"\n",
        "print(Text)"
      ],
      "execution_count": null,
      "outputs": [
        {
          "output_type": "stream",
          "text": [
            "This is my first time trying colab.\n"
          ],
          "name": "stdout"
        }
      ]
    },
    {
      "cell_type": "markdown",
      "metadata": {
        "id": "vaHPL2ZT-Lqu"
      },
      "source": [
        "1. Declare a variable to store the text from the user.\n",
        "2. Use the variable in print function.\n",
        "3. Run the code."
      ]
    },
    {
      "cell_type": "code",
      "metadata": {
        "colab": {
          "base_uri": "https://localhost:8080/"
        },
        "id": "yeMcsLpf-c8v",
        "outputId": "0f008201-8b7d-4e09-84e6-b0de6ca3d41d"
      },
      "source": [
        "# input() function takes input from the user. \n",
        "Text = input()\n",
        "print(Text)"
      ],
      "execution_count": null,
      "outputs": [
        {
          "output_type": "stream",
          "text": [
            "This is my first program\n",
            "This is my first program\n"
          ],
          "name": "stdout"
        }
      ]
    },
    {
      "cell_type": "markdown",
      "metadata": {
        "id": "ErTn-hcs_OqC"
      },
      "source": [
        "# 2. Program to find greatest among two numbers and three numbers."
      ]
    },
    {
      "cell_type": "markdown",
      "metadata": {
        "id": "2pYW1__-zxVW"
      },
      "source": [
        "*Two numbers program*"
      ]
    },
    {
      "cell_type": "markdown",
      "metadata": {
        "id": "npUy0FqV_nl_"
      },
      "source": [
        "It can be done by taking input from user or taking numbers directly.\n",
        "* Declare two variables and take values from the user.\n",
        "* Write a if- else statements to compare two numbers.\n",
        "* Run the code\n",
        "\n",
        "\n",
        "\n"
      ]
    },
    {
      "cell_type": "code",
      "metadata": {
        "colab": {
          "base_uri": "https://localhost:8080/"
        },
        "id": "xP5UpZsVAtE1",
        "outputId": "355d5d5e-f868-4fc4-ad84-1055a58573d0"
      },
      "source": [
        "A = int(input()) # This function converts string to integer data type\n",
        "B = int(input())\n",
        "if (A > B): # Here the program compares A and B\n",
        "  print(\"A is greater number\")\n",
        "else :  # If \"If block\" is wrong then else block executes\n",
        "  print(\"B is greater number\") "
      ],
      "execution_count": null,
      "outputs": [
        {
          "output_type": "stream",
          "text": [
            "2\n",
            "5\n",
            "B is greater number\n"
          ],
          "name": "stdout"
        }
      ]
    },
    {
      "cell_type": "markdown",
      "metadata": {
        "id": "PqiCd91c0OQi"
      },
      "source": [
        "*Three numbers program*"
      ]
    },
    {
      "cell_type": "markdown",
      "metadata": {
        "id": "q_qOTKEVxx30"
      },
      "source": [
        "*  Declare three variables and take input from the user.\n",
        "*  Use if-elif-else block to compare numbers.\n",
        "*  Run the program.  \n",
        "*  After execution enter three numbers of your choice and see the output.\n",
        "\n"
      ]
    },
    {
      "cell_type": "code",
      "metadata": {
        "colab": {
          "base_uri": "https://localhost:8080/"
        },
        "id": "4lYdMR49yf4X",
        "outputId": "79617c30-6ea1-4771-ada9-fcc27ee6c3ef"
      },
      "source": [
        "A = int(input())\n",
        "B = int(input())\n",
        "C = int(input())\n",
        "if ((A > B) and (A > C)):\n",
        "     print(\"A is Greater number.\")\n",
        "elif ((B > A) and (B > C)):\n",
        "     print(\"B is Greater number.\")\n",
        "else :\n",
        "     print(\"C is Greater number.\")"
      ],
      "execution_count": 2,
      "outputs": [
        {
          "output_type": "stream",
          "text": [
            "5\n",
            "-8\n",
            "3\n",
            "A is Greater number.\n"
          ],
          "name": "stdout"
        }
      ]
    },
    {
      "cell_type": "markdown",
      "metadata": {
        "id": "lgLFQckmB0P_"
      },
      "source": [
        "# 3. Program to check whether a number is even or odd"
      ]
    },
    {
      "cell_type": "markdown",
      "metadata": {
        "id": "TxVNhJSjB-3_"
      },
      "source": [
        "It can be done by static or dynamic approach.\n",
        "* Declare a variable and take input from the user.\n",
        "* write if-else statements to check even or odd.\n",
        "* Run the program\n",
        "\n",
        "\n",
        "\n"
      ]
    },
    {
      "cell_type": "code",
      "metadata": {
        "colab": {
          "base_uri": "https://localhost:8080/"
        },
        "id": "R6lYWZt_C2_Z",
        "outputId": "a124e484-d5a9-4982-ca61-013f4adc8e58"
      },
      "source": [
        "Number = int(input())\n",
        "if (Number % 2 == 0):\n",
        "  print(\"It is a even number\")\n",
        "else :\n",
        "  print(\"It is odd number\")"
      ],
      "execution_count": null,
      "outputs": [
        {
          "output_type": "stream",
          "text": [
            "4\n",
            "It is a even number\n"
          ],
          "name": "stdout"
        }
      ]
    }
  ]
}